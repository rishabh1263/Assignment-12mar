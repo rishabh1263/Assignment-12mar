{
 "cells": [
  {
   "cell_type": "code",
   "execution_count": 1,
   "id": "b06091c3",
   "metadata": {},
   "outputs": [
    {
     "name": "stdout",
     "output_type": "stream",
     "text": [
      "95% confidence interval: [49.01, 50.99]\n"
     ]
    }
   ],
   "source": [
    "##Q1:\n",
    "import scipy.stats as stats\n",
    "\n",
    "mean = 50\n",
    "std_dev = 5\n",
    "n = 100  # sample size\n",
    "conf_level = 0.95\n",
    "\n",
    "standard_error = std_dev / (n ** 0.5)\n",
    "margin_error = stats.t.ppf(conf_level + (1 - conf_level) / 2, n - 1) * standard_error\n",
    "lower_bound = mean - margin_error\n",
    "upper_bound = mean + margin_error\n",
    "\n",
    "print(f\"95% confidence interval: [{lower_bound:.2f}, {upper_bound:.2f}]\")\n"
   ]
  },
  {
   "cell_type": "code",
   "execution_count": 3,
   "id": "e30b5409",
   "metadata": {},
   "outputs": [
    {
     "name": "stdout",
     "output_type": "stream",
     "text": [
      "Test statistic: 1.41\n",
      "P-value: 0.92\n",
      "Fail to reject the null hypothesis.\n"
     ]
    }
   ],
   "source": [
    "##Q2\n",
    "import numpy as np\n",
    "from scipy.stats import chisquare\n",
    "\n",
    "# observed frequencies of M&M colors in the bag\n",
    "observed_freq = np.array([24, 23, 18, 10, 13, 22])\n",
    "\n",
    "# expected frequencies of M&M colors in the bag\n",
    "expected_freq = np.array([0.2, 0.2, 0.2, 0.1, 0.1, 0.2]) * np.sum(observed_freq)\n",
    "\n",
    "# perform the chi-square goodness of fit test\n",
    "test_statistic, p_value = chisquare(observed_freq, expected_freq)\n",
    "\n",
    "# print the results\n",
    "print(f\"Test statistic: {test_statistic:.2f}\")\n",
    "print(f\"P-value: {p_value:.2f}\")\n",
    "if p_value < 0.05:\n",
    "    print(\"Reject the null hypothesis that the distribution of colors matches the expected distribution.\")\n",
    "else:\n",
    "    print(\"Fail to reject the null hypothesis.\")\n"
   ]
  },
  {
   "cell_type": "code",
   "execution_count": 1,
   "id": "31d67b81",
   "metadata": {},
   "outputs": [
    {
     "name": "stdout",
     "output_type": "stream",
     "text": [
      "90% Confidence Interval: (72.15, 77.85)\n"
     ]
    }
   ],
   "source": [
    "##Q5:\n",
    "from scipy.stats import t\n",
    "import math\n",
    "\n",
    "# Sample data\n",
    "mean = 75\n",
    "std_dev = 12\n",
    "sample_size = 50  # You would need to input the actual sample size\n",
    "\n",
    "# Degrees of freedom\n",
    "df = sample_size - 1\n",
    "\n",
    "# Critical value for 90% confidence level\n",
    "alpha = 0.1  # 1 - confidence level\n",
    "t_critical = t.ppf(1 - alpha/2, df)\n",
    "\n",
    "# Margin of error\n",
    "margin_of_error = t_critical * std_dev / math.sqrt(sample_size)\n",
    "\n",
    "# Confidence interval\n",
    "lower_limit = mean - margin_of_error\n",
    "upper_limit = mean + margin_of_error\n",
    "\n",
    "print(f\"90% Confidence Interval: ({lower_limit:.2f}, {upper_limit:.2f})\")\n"
   ]
  },
  {
   "cell_type": "markdown",
   "id": "3c88a4b5",
   "metadata": {},
   "source": [
    "##Q7:\n",
    "\n",
    "CI = p ± zsqrt(p(1-p)/n)\n",
    "\n",
    "where:\n",
    "\n",
    "CI is the confidence interval\n",
    "p is the sample proportion\n",
    "z is the z-score for the desired confidence level (in this case, 99% confidence level)\n",
    "n is the sample size\n",
    "Plugging in the values given in the problem, we get:\n",
    "\n",
    "p = 520/1000 = 0.52\n",
    "n = 1000\n",
    "z = 2.576 (for a 99% confidence level)\n",
    "\n",
    "CI = 0.52 ± 2.576sqrt(0.52(1-0.52)/1000) ≈ (0.487, 0.553)\n",
    "\n",
    "Therefore, the 99% confidence interval for the true proportion of people in the population who prefer Coke is approximately (0.487, 0.553). This means that we can be 99% confident that the true population proportion falls within this interval. In other words, if we repeated the sampling process many times, 99% of the time the true population proportion would fall within this range.\n",
    "\n",
    "Interpretation: The sample data suggests that 52% of the population prefers Coke, and we can be 99% confident that the true population proportion falls between 48.7% and 55.3%. This result provides evidence for the researcher's hypothesis that the proportion of people in the population who prefer Coke is not equal to 0.5.\n",
    "\n",
    "\n",
    "\n",
    "\n"
   ]
  },
  {
   "cell_type": "markdown",
   "id": "51b5a4b2",
   "metadata": {},
   "source": [
    "##Q4\n",
    "import math\n",
    "\n",
    "# sample size\n",
    "n = 500\n",
    "\n",
    "# number of individuals who smoke\n",
    "x = 60\n",
    "\n",
    "# sample proportion\n",
    "p = x / n\n",
    "\n",
    "# degrees of freedom\n",
    "df = n - 1\n",
    "\n",
    "# critical values for two-tailed test\n",
    "alpha1 = 0.05 / 2\n",
    "alpha2 = 0.1 / 2\n",
    "z_critical1 = abs(norm.ppf(alpha1))\n",
    "z_critical2 = abs(norm.ppf(alpha2))\n",
    "\n",
    "# standard error\n",
    "se = math.sqrt(p * (1 - p) / n)\n",
    "\n",
    "# margin of error\n",
    "me1 = z_critical1 * se\n",
    "me2 = z_critical2 * se\n",
    "\n",
    "# confidence interval for 95% confidence level\n",
    "ci1_lower = p - me1\n",
    "ci1_upper = p + me1\n",
    "\n",
    "# confidence interval for 90% confidence level\n",
    "ci2_lower = p - me2\n",
    "ci2_upper = p + me2\n",
    "\n",
    "# print the results\n",
    "print(\"95% confidence interval: ({:.4f}, {:.4f})\".format(ci1_lower, ci1_upper))\n",
    "print(\"90% confidence interval: ({:.4f}, {:.4f})\".format(ci2_lower, ci2_upper))\n"
   ]
  },
  {
   "cell_type": "markdown",
   "id": "ac015cc2",
   "metadata": {},
   "source": [
    "##Q10\n",
    "import numpy as np\n",
    "from scipy.stats import chi2_contingency\n",
    "\n",
    "# contingency table\n",
    "obs = np.array([[150, 200, 150], [100, 250, 150]])\n",
    "\n",
    "# calculate expected frequencies\n",
    "exp = np.outer(obs.sum(axis=1), obs.sum(axis=0)) / obs.sum()\n",
    "\n",
    "# perform chi-square test\n",
    "chi2, p, dof, expected = chi2_contingency(obs)\n",
    "\n",
    "# calculate critical value\n",
    "alpha = 0.05\n",
    "critical_value = chi2.ppf(1 - alpha, dof)\n",
    "\n",
    "# make decision\n",
    "if chi2 > critical_value:\n",
    "    print(\"Reject the null hypothesis. There is a significant association between chocolate preference and country of origin.\")\n",
    "else:\n",
    "    print(\"Fail to reject the null hypothesis. There is no significant association between chocolate preference and country of origin.\")\n",
    "    \n",
    "# print results\n",
    "print(\"Chi-square test statistic: {:.4f}\".format(chi2))\n",
    "print(\"p-value: {:.4f}\".format(p))\n",
    "print(\"Degrees of freedom: {}\".format(dof))\n",
    "print(\"Expected frequencies:\")\n",
    "print(expected)\n"
   ]
  },
  {
   "cell_type": "code",
   "execution_count": null,
   "id": "04bbab82",
   "metadata": {},
   "outputs": [],
   "source": []
  }
 ],
 "metadata": {
  "kernelspec": {
   "display_name": "Python 3 (ipykernel)",
   "language": "python",
   "name": "python3"
  },
  "language_info": {
   "codemirror_mode": {
    "name": "ipython",
    "version": 3
   },
   "file_extension": ".py",
   "mimetype": "text/x-python",
   "name": "python",
   "nbconvert_exporter": "python",
   "pygments_lexer": "ipython3",
   "version": "3.9.13"
  }
 },
 "nbformat": 4,
 "nbformat_minor": 5
}
